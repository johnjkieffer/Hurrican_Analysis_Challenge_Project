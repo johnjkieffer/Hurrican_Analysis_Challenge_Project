{
 "cells": [
  {
   "cell_type": "markdown",
   "metadata": {},
   "source": [
    "# Hurricane Analysis Project\n",
    "\n",
    "The code below was initially provided"
   ]
  },
  {
   "cell_type": "code",
   "execution_count": 1,
   "metadata": {},
   "outputs": [],
   "source": [
    "# names of hurricanes\n",
    "names = ['Cuba I', 'San Felipe II Okeechobee', 'Bahamas', 'Cuba II', 'CubaBrownsville', 'Tampico', 'Labor Day', 'New England', 'Carol', 'Janet', 'Carla', 'Hattie', 'Beulah', 'Camille', 'Edith', 'Anita', 'David', 'Allen', 'Gilbert', 'Hugo', 'Andrew', 'Mitch', 'Isabel', 'Ivan', 'Emily', 'Katrina', 'Rita', 'Wilma', 'Dean', 'Felix', 'Matthew', 'Irma', 'Maria', 'Michael']\n",
    "\n",
    "# months of hurricanes\n",
    "months = ['October', 'September', 'September', 'November', 'August', 'September', 'September', 'September', 'September', 'September', 'September', 'October', 'September', 'August', 'September', 'September', 'August', 'August', 'September', 'September', 'August', 'October', 'September', 'September', 'July', 'August', 'September', 'October', 'August', 'September', 'October', 'September', 'September', 'October']\n",
    "\n",
    "# years of hurricanes\n",
    "years = [1924, 1928, 1932, 1932, 1933, 1933, 1935, 1938, 1953, 1955, 1961, 1961, 1967, 1969, 1971, 1977, 1979, 1980, 1988, 1989, 1992, 1998, 2003, 2004, 2005, 2005, 2005, 2005, 2007, 2007, 2016, 2017, 2017, 2018]\n",
    "\n",
    "# maximum sustained winds (mph) of hurricanes\n",
    "max_sustained_winds = [165, 160, 160, 175, 160, 160, 185, 160, 160, 175, 175, 160, 160, 175, 160, 175, 175, 190, 185, 160, 175, 180, 165, 165, 160, 175, 180, 185, 175, 175, 165, 180, 175, 160]\n",
    "\n",
    "# areas affected by each hurricane\n",
    "areas_affected = [['Central America', 'Mexico', 'Cuba', 'Florida', 'The Bahamas'], ['Lesser Antilles', 'The Bahamas', 'United States East Coast', 'Atlantic Canada'], ['The Bahamas', 'Northeastern United States'], ['Lesser Antilles', 'Jamaica', 'Cayman Islands', 'Cuba', 'The Bahamas', 'Bermuda'], ['The Bahamas', 'Cuba', 'Florida', 'Texas', 'Tamaulipas'], ['Jamaica', 'Yucatn Peninsula'], ['The Bahamas', 'Florida', 'Georgia', 'The Carolinas', 'Virginia'], ['Southeastern United States', 'Northeastern United States', 'Southwestern Quebec'], ['Bermuda', 'New England', 'Atlantic Canada'], ['Lesser Antilles', 'Central America'], ['Texas', 'Louisiana', 'Midwestern United States'], ['Central America'], ['The Caribbean', 'Mexico', 'Texas'], ['Cuba', 'United States Gulf Coast'], ['The Caribbean', 'Central America', 'Mexico', 'United States Gulf Coast'], ['Mexico'], ['The Caribbean', 'United States East coast'], ['The Caribbean', 'Yucatn Peninsula', 'Mexico', 'South Texas'], ['Jamaica', 'Venezuela', 'Central America', 'Hispaniola', 'Mexico'], ['The Caribbean', 'United States East Coast'], ['The Bahamas', 'Florida', 'United States Gulf Coast'], ['Central America', 'Yucatn Peninsula', 'South Florida'], ['Greater Antilles', 'Bahamas', 'Eastern United States', 'Ontario'], ['The Caribbean', 'Venezuela', 'United States Gulf Coast'], ['Windward Islands', 'Jamaica', 'Mexico', 'Texas'], ['Bahamas', 'United States Gulf Coast'], ['Cuba', 'United States Gulf Coast'], ['Greater Antilles', 'Central America', 'Florida'], ['The Caribbean', 'Central America'], ['Nicaragua', 'Honduras'], ['Antilles', 'Venezuela', 'Colombia', 'United States East Coast', 'Atlantic Canada'], ['Cape Verde', 'The Caribbean', 'British Virgin Islands', 'U.S. Virgin Islands', 'Cuba', 'Florida'], ['Lesser Antilles', 'Virgin Islands', 'Puerto Rico', 'Dominican Republic', 'Turks and Caicos Islands'], ['Central America', 'United States Gulf Coast (especially Florida Panhandle)']]\n",
    "\n",
    "# damages (USD($)) of hurricanes\n",
    "damages = ['Damages not recorded', '100M', 'Damages not recorded', '40M', '27.9M', '5M', 'Damages not recorded', '306M', '2M', '65.8M', '326M', '60.3M', '208M', '1.42B', '25.4M', 'Damages not recorded', '1.54B', '1.24B', '7.1B', '10B', '26.5B', '6.2B', '5.37B', '23.3B', '1.01B', '125B', '12B', '29.4B', '1.76B', '720M', '15.1B', '64.8B', '91.6B', '25.1B']\n",
    "\n",
    "# deaths for each hurricane\n",
    "deaths = [90,4000,16,3103,179,184,408,682,5,1023,43,319,688,259,37,11,2068,269,318,107,65,19325,51,124,17,1836,125,87,45,133,603,138,3057,74]\n"
   ]
  },
  {
   "cell_type": "markdown",
   "metadata": {},
   "source": [
    "Write a function that returns a new list of damages where the data is converted to float values and missing data is retained as `\"Damages not recorded\"`."
   ]
  },
  {
   "cell_type": "code",
   "execution_count": 7,
   "metadata": {},
   "outputs": [
    {
     "name": "stdout",
     "output_type": "stream",
     "text": [
      "['Damages not recorded', 100000000.0, 'Damages not recorded', 40000000.0, 27900000.0, 5000000.0, 'Damages not recorded', 306000000.0, 2000000.0, 65800000.0, 326000000.0, 60300000.0, 208000000.0, 1420000000.0, 25400000.0, 'Damages not recorded', 1540000000.0, 1240000000.0, 7100000000.0, 10000000000.0, 26500000000.0, 6200000000.0, 5370000000.0, 23300000000.0, 1010000000.0, 125000000000.0, 12000000000.0, 29400000000.0, 1760000000.0, 720000000.0, 15100000000.0, 64800000000.0, 91600000000.0, 25100000000.0]\n"
     ]
    }
   ],
   "source": [
    "def correct_damage_values(list_of_damages):\n",
    "    new_list = []\n",
    "    for price in list_of_damages:\n",
    "        if price == \"Damages not recorded\":\n",
    "            new_list.append(price)\n",
    "        elif price[-1] == \"M\":\n",
    "            new_price = float(price[:-1])*1000000\n",
    "            new_list.append(new_price)\n",
    "        elif price[-1] == \"B\":\n",
    "            new_price = float(price[:-1])*1000000000\n",
    "            new_list.append(new_price)\n",
    "        else:\n",
    "            return \"There was a problem correcting the values.\"\n",
    "    return new_list\n",
    "corrected_damages = correct_damage_values(damages)\n",
    "print(corrected_damages)\n",
    "    "
   ]
  },
  {
   "cell_type": "markdown",
   "metadata": {},
   "source": [
    "The data included for `names`, `months`, `years`, `max_sustained_winds`, `areas_affected`, `damages`, and `deaths` are all organized such that the indices for each list all correspond to the same hurricane.\n",
    "\n",
    "Write a function that constructs a dictionary made out of the lists where the keys are the names of the hurricanes and the values are dictionaries themselves containing a key for each piece of data about the hurricane."
   ]
  },
  {
   "cell_type": "code",
   "execution_count": 15,
   "metadata": {},
   "outputs": [
    {
     "name": "stdout",
     "output_type": "stream",
     "text": [
      "{'Month': 'October', 'Year': 1924, 'Max Sustained Wind Speed': 165, 'Areas Affected': ['Central America', 'Mexico', 'Cuba', 'Florida', 'The Bahamas'], 'Damage': 'Damages not recorded', 'Deaths': 90}\n"
     ]
    }
   ],
   "source": [
    "def lists_2_hurricane_dict(names, months, years, winds, areas, damages, deaths):\n",
    "    hurricane_dict = {}\n",
    "    for i, name in enumerate(names):\n",
    "        hurricane_dict[name] = {\"Month\" : months[i], \"Year\" : years[i], \"Max Sustained Wind Speed\" : winds[i], \"Areas Affected\" : areas[i], \"Damage\" : damages[i], \"Deaths\" : deaths[i]}\n",
    "    return hurricane_dict\n",
    "\n",
    "hurricane_data = lists_2_hurricane_dict(names, months, years, max_sustained_winds, areas_affected, damages, deaths)\n",
    "print(hurricane_data[\"Cuba I\"])\n",
    "        \n",
    "        "
   ]
  },
  {
   "cell_type": "markdown",
   "metadata": {},
   "source": [
    "We want to create a function to organize the hurricane data by year in a dictionary."
   ]
  },
  {
   "cell_type": "code",
   "execution_count": 29,
   "metadata": {},
   "outputs": [
    {
     "name": "stdout",
     "output_type": "stream",
     "text": [
      "[{'Month': 'September', 'Year': 1932, 'Max Sustained Wind Speed': 160, 'Areas Affected': ['The Bahamas', 'Northeastern United States'], 'Damage': 'Damages not recorded', 'Deaths': 16, 'Name': 'Bahamas'}, {'Month': 'November', 'Year': 1932, 'Max Sustained Wind Speed': 175, 'Areas Affected': ['Lesser Antilles', 'Jamaica', 'Cayman Islands', 'Cuba', 'The Bahamas', 'Bermuda'], 'Damage': '40M', 'Deaths': 3103, 'Name': 'Cuba II'}]\n"
     ]
    }
   ],
   "source": [
    "def year_call(hurricane_dict):\n",
    "    yearly_data = {}\n",
    "    names = hurricane_dict.keys()\n",
    "    years = []\n",
    "    for name in names:\n",
    "        year = hurricane_dict[name]['Year']\n",
    "        years.append(year)\n",
    "    years = set(years)\n",
    "    for year in years:\n",
    "        yearly_data[year] = []\n",
    "        for name in names:\n",
    "            if hurricane_dict[name]['Year'] == year:\n",
    "                hurricane_dict[name][\"Name\"] = name\n",
    "                yearly_data[year].append(hurricane_dict[name])\n",
    "    return yearly_data\n",
    "\n",
    "yearly_hurricane_data = year_call(hurricane_data)\n",
    "print(yearly_hurricane_data[1932])\n",
    "            "
   ]
  },
  {
   "cell_type": "markdown",
   "metadata": {},
   "source": [
    "Now we want to write a function that counts how often each area is liste as an affected area of a hurricane. We want to store the results in a dictionary where the keys are the affected areas and teh values are counts of how many times the areas were affected."
   ]
  },
  {
   "cell_type": "code",
   "execution_count": 30,
   "metadata": {},
   "outputs": [
    {
     "name": "stdout",
     "output_type": "stream",
     "text": [
      "{'Central America': 9, 'Mexico': 7, 'Cuba': 6, 'Florida': 6, 'The Bahamas': 7, 'Lesser Antilles': 4, 'United States East Coast': 3, 'Atlantic Canada': 3, 'Northeastern United States': 2, 'Jamaica': 4, 'Cayman Islands': 1, 'Bermuda': 2, 'Texas': 4, 'Tamaulipas': 1, 'Yucatn Peninsula': 3, 'Georgia': 1, 'The Carolinas': 1, 'Virginia': 1, 'Southeastern United States': 1, 'Southwestern Quebec': 1, 'New England': 1, 'Louisiana': 1, 'Midwestern United States': 1, 'The Caribbean': 8, 'United States Gulf Coast': 6, 'United States East coast': 1, 'South Texas': 1, 'Venezuela': 3, 'Hispaniola': 1, 'South Florida': 1, 'Greater Antilles': 2, 'Bahamas': 2, 'Eastern United States': 1, 'Ontario': 1, 'Windward Islands': 1, 'Nicaragua': 1, 'Honduras': 1, 'Antilles': 1, 'Colombia': 1, 'Cape Verde': 1, 'British Virgin Islands': 1, 'U.S. Virgin Islands': 1, 'Virgin Islands': 1, 'Puerto Rico': 1, 'Dominican Republic': 1, 'Turks and Caicos Islands': 1, 'United States Gulf Coast (especially Florida Panhandle)': 1}\n"
     ]
    }
   ],
   "source": [
    "def area_count(hurricane_dict):\n",
    "    area_dict = {}\n",
    "    for cane in hurricane_dict.keys():\n",
    "        for area in hurricane_dict[cane][\"Areas Affected\"]:\n",
    "            if area in area_dict.keys():\n",
    "                area_dict[area] += 1\n",
    "            else:\n",
    "                area_dict[area] = 1\n",
    "    return area_dict\n",
    "\n",
    "areas_with_canes = area_count(hurricane_data)\n",
    "print(areas_with_canes)"
   ]
  },
  {
   "cell_type": "markdown",
   "metadata": {},
   "source": [
    "Write a function that finds the aea affected by the most hurricanes and how often it was hit. Test the function on `areaa_with_canes`."
   ]
  },
  {
   "cell_type": "code",
   "execution_count": 34,
   "metadata": {},
   "outputs": [
    {
     "name": "stdout",
     "output_type": "stream",
     "text": [
      "{'Central America': 9}\n"
     ]
    }
   ],
   "source": [
    "def max_area_hit(area_dict):\n",
    "    area_list = []\n",
    "    max_hit = 0\n",
    "    for area in area_dict.keys():\n",
    "        if area_dict[area] > max_hit:\n",
    "            max_hit = area_dict[area]\n",
    "            area_list = [area]\n",
    "        elif area_dict[area] == max_hit:\n",
    "            area_list.append(area)\n",
    "    max_area_dict = {}\n",
    "    for area in area_list:\n",
    "        max_area_dict[area] = max_hit\n",
    "    return max_area_dict\n",
    "\n",
    "most_hit = max_area_hit(areas_with_canes)\n",
    "print(most_hit)"
   ]
  },
  {
   "cell_type": "markdown",
   "metadata": {},
   "source": [
    "Write a function that finds the hurricane that caused the greatest number of deaths, and how many deaths it caused. Test the function on `hurricane_data`."
   ]
  },
  {
   "cell_type": "code",
   "execution_count": 35,
   "metadata": {},
   "outputs": [
    {
     "name": "stdout",
     "output_type": "stream",
     "text": [
      "{'Mitch': 19325}\n"
     ]
    }
   ],
   "source": [
    "def max_deaths(cane_dict):\n",
    "    max_dead = 0\n",
    "    most_deadly = []\n",
    "    for cane in cane_dict.keys():\n",
    "        if cane_dict[cane][\"Deaths\"] > max_dead:\n",
    "            max_dead = cane_dict[cane][\"Deaths\"]\n",
    "            most_deadly = [cane]\n",
    "        elif cane_dict[cane][\"Deaths\"] == max_dead:\n",
    "            most_deadly.append(cane)\n",
    "    max_dead_dict = {}\n",
    "    for cane in most_deadly:\n",
    "        max_dead_dict[cane] = max_dead\n",
    "    return max_dead_dict\n",
    "\n",
    "most_deadly = max_deaths(hurricane_data)\n",
    "print(most_deadly)"
   ]
  },
  {
   "cell_type": "markdown",
   "metadata": {},
   "source": [
    "Write a function that rates hurricanes on a morttality scale according to the following ratings, where the key is the rating and the value is the upper bound of deaths for that rating.\n",
    "For example, a hurricane with a `1` mortality rating would have resulted in greater than `0` but less than or equal to `100` deaths. A hurricane with a `5` mortality rating would have resulted in greater than `10000` deaths.\n",
    "Store the hurricanes in a new dictionary where the keys are mortality ratings and the values are lists containing a dictionary for each hurricane that falls into that mortality rating.\n",
    "Test the function on `hurricane_data`."
   ]
  },
  {
   "cell_type": "code",
   "execution_count": 36,
   "metadata": {},
   "outputs": [
    {
     "name": "stdout",
     "output_type": "stream",
     "text": [
      "{'Cuba I': 1, 'San Felipe II Okeechobee': 4, 'Bahamas': 1, 'Cuba II': 4, 'CubaBrownsville': 2, 'Tampico': 2, 'Labor Day': 2, 'New England': 3, 'Carol': 1, 'Janet': 4, 'Carla': 1, 'Hattie': 2, 'Beulah': 3, 'Camille': 2, 'Edith': 1, 'Anita': 1, 'David': 4, 'Allen': 2, 'Gilbert': 2, 'Hugo': 2, 'Andrew': 1, 'Mitch': 5, 'Isabel': 1, 'Ivan': 2, 'Emily': 1, 'Katrina': 4, 'Rita': 2, 'Wilma': 1, 'Dean': 1, 'Felix': 2, 'Matthew': 3, 'Irma': 2, 'Maria': 4, 'Michael': 1}\n"
     ]
    }
   ],
   "source": [
    "def mortality_rating(hurricane_dict):\n",
    "    mortality_scale = {0: 0,\n",
    "                   1: 100,\n",
    "                   2: 500,\n",
    "                   3: 1000,\n",
    "                   4: 10000}\n",
    "    mortality_dict = {}\n",
    "    for cane in hurricane_dict.keys():\n",
    "        deaths = hurricane_dict[cane][\"Deaths\"]\n",
    "        rating = 0\n",
    "        for num, value in mortality_scale.items():\n",
    "            if deaths > value:\n",
    "                rating = num + 1\n",
    "        mortality_dict[cane] = rating\n",
    "    return mortality_dict\n",
    "\n",
    "cane_mortality_rating = mortality_rating(hurricane_data)\n",
    "print(cane_mortality_rating)"
   ]
  },
  {
   "cell_type": "markdown",
   "metadata": {},
   "source": []
  }
 ],
 "metadata": {
  "kernelspec": {
   "display_name": "Python 3",
   "language": "python",
   "name": "python3"
  },
  "language_info": {
   "codemirror_mode": {
    "name": "ipython",
    "version": 3
   },
   "file_extension": ".py",
   "mimetype": "text/x-python",
   "name": "python",
   "nbconvert_exporter": "python",
   "pygments_lexer": "ipython3",
   "version": "3.7.6"
  }
 },
 "nbformat": 4,
 "nbformat_minor": 4
}
